{
 "cells": [
  {
   "cell_type": "code",
   "execution_count": 1,
   "metadata": {},
   "outputs": [
    {
     "name": "stdout",
     "output_type": "stream",
     "text": [
      "Error al descargar el archivo PDF: 'DriveAPI' object has no attribute 'download_file'\n"
     ]
    },
    {
     "ename": "FileNotFoundError",
     "evalue": "[Errno 2] No such file or directory: 'c:\\\\Users\\\\ezean\\\\OneDrive\\\\Escritorio\\\\tesis_ant\\\\archivo_descargado.pdf'",
     "output_type": "error",
     "traceback": [
      "\u001b[1;31m---------------------------------------------------------------------------\u001b[0m",
      "\u001b[1;31mFileNotFoundError\u001b[0m                         Traceback (most recent call last)",
      "Cell \u001b[1;32mIn[1], line 64\u001b[0m\n\u001b[0;32m     61\u001b[0m download_pdf_from_drive(file_id, download_path)\n\u001b[0;32m     63\u001b[0m \u001b[38;5;66;03m# Procesar el PDF descargado y extraer imágenes\u001b[39;00m\n\u001b[1;32m---> 64\u001b[0m images_base64 \u001b[38;5;241m=\u001b[39m \u001b[43mprocess_pdf_and_extract_images\u001b[49m\u001b[43m(\u001b[49m\u001b[43mdownload_path\u001b[49m\u001b[43m)\u001b[49m\n\u001b[0;32m     66\u001b[0m \u001b[38;5;66;03m# Crear una carpeta en Google Drive para las imágenes extraídas\u001b[39;00m\n\u001b[0;32m     67\u001b[0m uploader \u001b[38;5;241m=\u001b[39m Uploader()\n",
      "Cell \u001b[1;32mIn[1], line 20\u001b[0m, in \u001b[0;36mprocess_pdf_and_extract_images\u001b[1;34m(pdf_path)\u001b[0m\n\u001b[0;32m     18\u001b[0m \u001b[38;5;28;01mdef\u001b[39;00m \u001b[38;5;21mprocess_pdf_and_extract_images\u001b[39m(pdf_path):\n\u001b[0;32m     19\u001b[0m     \u001b[38;5;66;03m# Leer el contenido del PDF\u001b[39;00m\n\u001b[1;32m---> 20\u001b[0m     \u001b[38;5;28;01mwith\u001b[39;00m \u001b[38;5;28;43mopen\u001b[39;49m\u001b[43m(\u001b[49m\u001b[43mpdf_path\u001b[49m\u001b[43m,\u001b[49m\u001b[43m \u001b[49m\u001b[38;5;124;43m'\u001b[39;49m\u001b[38;5;124;43mrb\u001b[39;49m\u001b[38;5;124;43m'\u001b[39;49m\u001b[43m)\u001b[49m \u001b[38;5;28;01mas\u001b[39;00m file:\n\u001b[0;32m     21\u001b[0m         pdf_content \u001b[38;5;241m=\u001b[39m file\u001b[38;5;241m.\u001b[39mread()\n\u001b[0;32m     23\u001b[0m     \u001b[38;5;66;03m# Preprocesar el PDF para obtener imágenes en Base64\u001b[39;00m\n",
      "File \u001b[1;32m~\\AppData\\Roaming\\Python\\Python312\\site-packages\\IPython\\core\\interactiveshell.py:324\u001b[0m, in \u001b[0;36m_modified_open\u001b[1;34m(file, *args, **kwargs)\u001b[0m\n\u001b[0;32m    317\u001b[0m \u001b[38;5;28;01mif\u001b[39;00m file \u001b[38;5;129;01min\u001b[39;00m {\u001b[38;5;241m0\u001b[39m, \u001b[38;5;241m1\u001b[39m, \u001b[38;5;241m2\u001b[39m}:\n\u001b[0;32m    318\u001b[0m     \u001b[38;5;28;01mraise\u001b[39;00m \u001b[38;5;167;01mValueError\u001b[39;00m(\n\u001b[0;32m    319\u001b[0m         \u001b[38;5;124mf\u001b[39m\u001b[38;5;124m\"\u001b[39m\u001b[38;5;124mIPython won\u001b[39m\u001b[38;5;124m'\u001b[39m\u001b[38;5;124mt let you open fd=\u001b[39m\u001b[38;5;132;01m{\u001b[39;00mfile\u001b[38;5;132;01m}\u001b[39;00m\u001b[38;5;124m by default \u001b[39m\u001b[38;5;124m\"\u001b[39m\n\u001b[0;32m    320\u001b[0m         \u001b[38;5;124m\"\u001b[39m\u001b[38;5;124mas it is likely to crash IPython. If you know what you are doing, \u001b[39m\u001b[38;5;124m\"\u001b[39m\n\u001b[0;32m    321\u001b[0m         \u001b[38;5;124m\"\u001b[39m\u001b[38;5;124myou can use builtins\u001b[39m\u001b[38;5;124m'\u001b[39m\u001b[38;5;124m open.\u001b[39m\u001b[38;5;124m\"\u001b[39m\n\u001b[0;32m    322\u001b[0m     )\n\u001b[1;32m--> 324\u001b[0m \u001b[38;5;28;01mreturn\u001b[39;00m \u001b[43mio_open\u001b[49m\u001b[43m(\u001b[49m\u001b[43mfile\u001b[49m\u001b[43m,\u001b[49m\u001b[43m \u001b[49m\u001b[38;5;241;43m*\u001b[39;49m\u001b[43margs\u001b[49m\u001b[43m,\u001b[49m\u001b[43m \u001b[49m\u001b[38;5;241;43m*\u001b[39;49m\u001b[38;5;241;43m*\u001b[39;49m\u001b[43mkwargs\u001b[49m\u001b[43m)\u001b[49m\n",
      "\u001b[1;31mFileNotFoundError\u001b[0m: [Errno 2] No such file or directory: 'c:\\\\Users\\\\ezean\\\\OneDrive\\\\Escritorio\\\\tesis_ant\\\\archivo_descargado.pdf'"
     ]
    }
   ],
   "source": [
    "import os\n",
    "from src.preprocessing.preprocess_files import DataPreprocessor\n",
    "from src.common.gdrive_manager import Uploader, DriveAPI\n",
    "from PIL import Image\n",
    "import io\n",
    "\n",
    "# Función para descargar el archivo PDF desde Google Drive\n",
    "def download_pdf_from_drive(file_id, download_path):\n",
    "    drive_api = DriveAPI()  # Crear una instancia de la clase DriveAPI\n",
    "    try:\n",
    "        # Descargar el archivo PDF usando el ID\n",
    "        drive_api.download_file(file_id, download_path)\n",
    "        print(f\"Archivo PDF descargado en: {download_path}\")\n",
    "    except Exception as e:\n",
    "        print(f\"Error al descargar el archivo PDF: {e}\")\n",
    "\n",
    "# Función para procesar el PDF y extraer imágenes\n",
    "def process_pdf_and_extract_images(pdf_path):\n",
    "    # Leer el contenido del PDF\n",
    "    with open(pdf_path, 'rb') as file:\n",
    "        pdf_content = file.read()\n",
    "\n",
    "    # Preprocesar el PDF para obtener imágenes en Base64\n",
    "    preprocessor = DataPreprocessor(pdf_content)\n",
    "    images_base64 = preprocessor()\n",
    "\n",
    "    # Verificar el número de imágenes codificadas en Base64 generadas\n",
    "    print(f\"Se generaron {len(images_base64)} imágenes en Base64.\")\n",
    "    \n",
    "    return images_base64\n",
    "\n",
    "# Función para subir imágenes extraídas a Google Drive\n",
    "def upload_images(images_base64, folder_id):\n",
    "    uploader = Uploader()\n",
    "    \n",
    "    for idx, img_base64 in enumerate(images_base64):\n",
    "        # Convertir Base64 a imagen\n",
    "        image_data = io.BytesIO(img_base64)\n",
    "        img = Image.open(image_data)\n",
    "\n",
    "        # Guardar la imagen en un archivo temporal para subirla\n",
    "        temp_image_path = f\"extracted_image_{idx + 1}.png\"\n",
    "        img.save(temp_image_path)\n",
    "\n",
    "        # Subir la imagen a Google Drive\n",
    "        try:\n",
    "            image_id = uploader.uploadFile(temp_image_path, folder_id)\n",
    "            print(f\"Imagen {idx + 1} subida con ID: {image_id}\")\n",
    "            \n",
    "            # Eliminar el archivo temporal después de subirlo\n",
    "            os.remove(temp_image_path)\n",
    "        except Exception as e:\n",
    "            print(f\"Error al subir la imagen {idx + 1}: {e}\")\n",
    "\n",
    "# Ruta del archivo PDF en Google Drive\n",
    "file_id = '1CuPFl4O_ayp4hD68ea5eDNu-6C4n9EdN'  # Cambia esto por el ID del archivo PDF en Google Drive\n",
    "download_path = os.path.join(os.getcwd(), 'archivo_descargado.pdf')  # Guardar en el directorio actual\n",
    "#download_path = 'archivo_descargado.pdf'\n",
    "\n",
    "# Descargar el PDF desde Google Drive\n",
    "download_pdf_from_drive(file_id, download_path)\n",
    "\n",
    "# Procesar el PDF descargado y extraer imágenes\n",
    "images_base64 = process_pdf_and_extract_images(download_path)\n",
    "\n",
    "# Crear una carpeta en Google Drive para las imágenes extraídas\n",
    "uploader = Uploader()\n",
    "folder_name = f\"imagenes extraidas de {os.path.basename(download_path)}\"\n",
    "folder_id = uploader.createFolder(folder_name)\n",
    "\n",
    "# Subir las imágenes extraídas a Google Drive\n",
    "upload_images(images_base64, folder_id)    "
   ]
  },
  {
   "cell_type": "code",
   "execution_count": 2,
   "metadata": {},
   "outputs": [
    {
     "name": "stdout",
     "output_type": "stream",
     "text": [
      "Error al descargar el archivo PDF: 'DriveAPI' object has no attribute 'download_file'\n",
      "Error: El archivo no se descargó en la ruta: c:\\Users\\ezean\\OneDrive\\Escritorio\\tesis_ant\\archivo_descargado.pdf\n"
     ]
    }
   ],
   "source": [
    "# Descargar el PDF desde Google Drive\n",
    "download_pdf_from_drive(file_id, download_path)\n",
    "\n",
    "# Verificar si el archivo existe\n",
    "if os.path.exists(download_path):\n",
    "    print(f\"Archivo descargado correctamente en: {download_path}\")\n",
    "else:\n",
    "    print(f\"Error: El archivo no se descargó en la ruta: {download_path}\")\n"
   ]
  }
 ],
 "metadata": {
  "kernelspec": {
   "display_name": "Python 3",
   "language": "python",
   "name": "python3"
  },
  "language_info": {
   "codemirror_mode": {
    "name": "ipython",
    "version": 3
   },
   "file_extension": ".py",
   "mimetype": "text/x-python",
   "name": "python",
   "nbconvert_exporter": "python",
   "pygments_lexer": "ipython3",
   "version": "3.12.3"
  }
 },
 "nbformat": 4,
 "nbformat_minor": 2
}
