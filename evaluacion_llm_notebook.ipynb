{
 "cells": [
  {
   "cell_type": "markdown",
   "id": "248b2e26",
   "metadata": {},
   "source": [
    "# Evaluación automática de LLM en informes biomecánicos"
   ]
  },
  {
   "cell_type": "code",
   "execution_count": 13,
   "id": "4dccc663",
   "metadata": {},
   "outputs": [],
   "source": [
    "import json\n",
    "import pandas as pd\n",
    "from sklearn.feature_extraction.text import TfidfVectorizer\n",
    "from sklearn.metrics.pairwise import cosine_similarity\n",
    "\n",
    "# Cargar dataset generado (.jsonl)\n",
    "ruta_jsonl = \"informes_dataset.jsonl\"\n",
    "data = []\n",
    "\n",
    "with open(ruta_jsonl, \"r\", encoding=\"utf-8\") as f:\n",
    "    for linea in f:\n",
    "        data.append(json.loads(linea))\n",
    "\n",
    "df = pd.DataFrame(data)\n",
    "# Seleccionar los últimos 6 informes\n",
    "df = df.tail(8).reset_index(drop=True)\n",
    "\n",
    "df.head()\n",
    "# Seleccionar los últimos 6 informes\n",
    "# Guardar la selección en un nuevo archivo Excel\n",
    "df.to_excel(\"evaluacion_filtrada.xlsx\", index=False)\n",
    "\n"
   ]
  },
  {
   "cell_type": "code",
   "execution_count": 6,
   "id": "194ec8a4",
   "metadata": {},
   "outputs": [],
   "source": [
    "# Seleccionar los últimos 6 informes\n",
    "df = df.tail(6).reset_index(drop=True)\n"
   ]
  },
  {
   "cell_type": "code",
   "execution_count": null,
   "id": "05983b9a",
   "metadata": {},
   "outputs": [],
   "source": [
    "# Calcular similitud de coseno entre conclusiones reales y generadas\n",
    "vectorizer = TfidfVectorizer()\n",
    "\n",
    "def calcular_similitud(row):\n",
    "    textos = [row['output_conclusion'], row['output_recomendacion']]\n",
    "    if not all(textos):\n",
    "        return None\n",
    "    vectores = vectorizer.fit_transform(textos)\n",
    "    return cosine_similarity(vectores[0:1], vectores[1:2])[0][0]\n",
    "\n",
    "df['similitud_conclusion_recomendacion'] = df.apply(calcular_similitud, axis=1)\n",
    "df[['archivo', 'similitud_conclusion_recomendacion']]"
   ]
  },
  {
   "cell_type": "code",
   "execution_count": null,
   "id": "b412c035",
   "metadata": {},
   "outputs": [],
   "source": [
    "# Mostrar promedio de similitud\n",
    "df['similitud_conclusion_recomendacion'].mean()"
   ]
  }
 ],
 "metadata": {
  "kernelspec": {
   "display_name": "Python 3",
   "language": "python",
   "name": "python3"
  },
  "language_info": {
   "codemirror_mode": {
    "name": "ipython",
    "version": 3
   },
   "file_extension": ".py",
   "mimetype": "text/x-python",
   "name": "python",
   "nbconvert_exporter": "python",
   "pygments_lexer": "ipython3",
   "version": "3.12.3"
  }
 },
 "nbformat": 4,
 "nbformat_minor": 5
}
