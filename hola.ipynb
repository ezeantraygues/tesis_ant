{
 "cells": [
  {
   "cell_type": "code",
   "execution_count": 2,
   "metadata": {},
   "outputs": [],
   "source": [
    "from dotenv import load_dotenv\n",
    "load_dotenv('.env.dev')\n",
    "import json\n",
    "import os\n",
    "from PIL import Image\n",
    "import base64\n",
    "from io import BytesIO\n",
    "import base64\n",
    "from typing import List\n",
    "#from langchain.chat_models import AzureChatOpenAI\n",
    "from langchain_openai import AzureChatOpenAI\n",
    "from langchain.schema import HumanMessage, SystemMessage\n",
    "\n",
    "\n",
    "#from models.report import DataExtractorResponse\n",
    "\n",
    "AZURE_OPENAI_API_KEY = os.getenv(\"AZURE_OPENAI_API_KEY\")\n",
    "AZURE_OPENAI_ENDPOINT = os.getenv(\"AZURE_OPENAI_ENDPOINT\")\n",
    "AZURE_CHAT_DEPLOYMENT_NAME = os.getenv(\"AZURE_CHAT_DEPLOYMENT_NAME\")\n",
    "\n",
    "#from .prompts import USER_TEXT_CONTENT, SYSTEM_CONTENT\n",
    "\n",
    "\n",
    "chat = AzureChatOpenAI(\n",
    "    openai_api_key=AZURE_OPENAI_API_KEY,\n",
    "    azure_endpoint=AZURE_OPENAI_ENDPOINT,\n",
    "    deployment_name=AZURE_CHAT_DEPLOYMENT_NAME,\n",
    "    openai_api_version=\"2025-01-01-preview\",\n",
    "    temperature=0.25,\n",
    "    request_timeout=550,\n",
    "    max_tokens=2000,\n",
    ")\n"
   ]
  },
  {
   "cell_type": "code",
   "execution_count": 3,
   "metadata": {},
   "outputs": [
    {
     "name": "stdout",
     "output_type": "stream",
     "text": [
      "1.44.1\n"
     ]
    }
   ],
   "source": [
    "import openai\n",
    "print(openai.__version__)"
   ]
  },
  {
   "cell_type": "code",
   "execution_count": 2,
   "metadata": {},
   "outputs": [
    {
     "name": "stdout",
     "output_type": "stream",
     "text": [
      "c:\\Users\\ezean\\OneDrive\\Escritorio\\tesis_ant\\.venv\\Scripts\\python.exe\n"
     ]
    }
   ],
   "source": [
    "import sys\n",
    "print(sys.executable)"
   ]
  },
  {
   "cell_type": "code",
   "execution_count": 4,
   "metadata": {},
   "outputs": [
    {
     "name": "stdout",
     "output_type": "stream",
     "text": [
      "Notebook openailocation: c:\\Users\\ezean\\AppData\\Local\\Programs\\Python\\Python312\\Lib\\site-packages\\openai\\__init__.py\n"
     ]
    }
   ],
   "source": [
    "\n",
    "import openai\n",
    "print(\"Notebook openailocation:\", openai.__file__)"
   ]
  },
  {
   "cell_type": "code",
   "execution_count": 3,
   "metadata": {},
   "outputs": [
    {
     "name": "stdout",
     "output_type": "stream",
     "text": [
      "Collecting langchain==0.2.16 (from -r tequirements.txt (line 1))\n",
      "  Using cached langchain-0.2.16-py3-none-any.whl.metadata (7.1 kB)\n",
      "Collecting langchain-community==0.2.3 (from -r tequirements.txt (line 2))\n",
      "  Using cached langchain_community-0.2.3-py3-none-any.whl.metadata (9.0 kB)\n",
      "Collecting langchain-core==0.2.39 (from -r tequirements.txt (line 3))\n",
      "  Using cached langchain_core-0.2.39-py3-none-any.whl.metadata (6.2 kB)\n",
      "Collecting langchain-openai==0.1.23 (from -r tequirements.txt (line 4))\n",
      "  Using cached langchain_openai-0.1.23-py3-none-any.whl.metadata (2.6 kB)\n",
      "Collecting langchain-pinecone==0.1.1 (from -r tequirements.txt (line 5))\n",
      "  Using cached langchain_pinecone-0.1.1-py3-none-any.whl.metadata (1.4 kB)\n",
      "Collecting langchain-text-splitters==0.2.0 (from -r tequirements.txt (line 6))\n",
      "  Using cached langchain_text_splitters-0.2.0-py3-none-any.whl.metadata (2.2 kB)\n",
      "Collecting openai==1.44.1 (from -r tequirements.txt (line 7))\n",
      "  Using cached openai-1.44.1-py3-none-any.whl.metadata (22 kB)\n",
      "Requirement already satisfied: PyYAML>=5.3 in c:\\users\\ezean\\appdata\\local\\programs\\python\\python312\\lib\\site-packages (from langchain==0.2.16->-r tequirements.txt (line 1)) (6.0.2)\n",
      "Requirement already satisfied: SQLAlchemy<3,>=1.4 in c:\\users\\ezean\\appdata\\local\\programs\\python\\python312\\lib\\site-packages (from langchain==0.2.16->-r tequirements.txt (line 1)) (2.0.35)\n",
      "Requirement already satisfied: aiohttp<4.0.0,>=3.8.3 in c:\\users\\ezean\\appdata\\local\\programs\\python\\python312\\lib\\site-packages (from langchain==0.2.16->-r tequirements.txt (line 1)) (3.10.9)\n",
      "Requirement already satisfied: langsmith<0.2.0,>=0.1.17 in c:\\users\\ezean\\appdata\\local\\programs\\python\\python312\\lib\\site-packages (from langchain==0.2.16->-r tequirements.txt (line 1)) (0.1.132)\n",
      "Requirement already satisfied: numpy<2.0.0,>=1.26.0 in c:\\users\\ezean\\appdata\\local\\programs\\python\\python312\\lib\\site-packages (from langchain==0.2.16->-r tequirements.txt (line 1)) (1.26.4)\n",
      "Requirement already satisfied: pydantic<3,>=1 in c:\\users\\ezean\\appdata\\local\\programs\\python\\python312\\lib\\site-packages (from langchain==0.2.16->-r tequirements.txt (line 1)) (2.9.2)\n",
      "Requirement already satisfied: requests<3,>=2 in c:\\users\\ezean\\appdata\\local\\programs\\python\\python312\\lib\\site-packages (from langchain==0.2.16->-r tequirements.txt (line 1)) (2.32.3)\n",
      "Requirement already satisfied: tenacity!=8.4.0,<9.0.0,>=8.1.0 in c:\\users\\ezean\\appdata\\local\\programs\\python\\python312\\lib\\site-packages (from langchain==0.2.16->-r tequirements.txt (line 1)) (8.5.0)\n",
      "Requirement already satisfied: dataclasses-json<0.7,>=0.5.7 in c:\\users\\ezean\\appdata\\local\\programs\\python\\python312\\lib\\site-packages (from langchain-community==0.2.3->-r tequirements.txt (line 2)) (0.6.7)\n",
      "Requirement already satisfied: jsonpatch<2.0,>=1.33 in c:\\users\\ezean\\appdata\\local\\programs\\python\\python312\\lib\\site-packages (from langchain-core==0.2.39->-r tequirements.txt (line 3)) (1.33)\n",
      "Requirement already satisfied: packaging<25,>=23.2 in c:\\users\\ezean\\appdata\\local\\programs\\python\\python312\\lib\\site-packages (from langchain-core==0.2.39->-r tequirements.txt (line 3)) (24.1)\n",
      "Requirement already satisfied: typing-extensions>=4.7 in c:\\users\\ezean\\appdata\\local\\programs\\python\\python312\\lib\\site-packages (from langchain-core==0.2.39->-r tequirements.txt (line 3)) (4.12.2)\n",
      "Requirement already satisfied: tiktoken<1,>=0.7 in c:\\users\\ezean\\appdata\\local\\programs\\python\\python312\\lib\\site-packages (from langchain-openai==0.1.23->-r tequirements.txt (line 4)) (0.8.0)\n",
      "Collecting pinecone-client<4.0.0,>=3.2.2 (from langchain-pinecone==0.1.1->-r tequirements.txt (line 5))\n",
      "  Using cached pinecone_client-3.2.2-py3-none-any.whl.metadata (16 kB)\n",
      "Requirement already satisfied: anyio<5,>=3.5.0 in c:\\users\\ezean\\appdata\\local\\programs\\python\\python312\\lib\\site-packages (from openai==1.44.1->-r tequirements.txt (line 7)) (4.6.0)\n",
      "Requirement already satisfied: distro<2,>=1.7.0 in c:\\users\\ezean\\appdata\\local\\programs\\python\\python312\\lib\\site-packages (from openai==1.44.1->-r tequirements.txt (line 7)) (1.9.0)\n",
      "Requirement already satisfied: httpx<1,>=0.23.0 in c:\\users\\ezean\\appdata\\local\\programs\\python\\python312\\lib\\site-packages (from openai==1.44.1->-r tequirements.txt (line 7)) (0.27.2)\n",
      "Requirement already satisfied: jiter<1,>=0.4.0 in c:\\users\\ezean\\appdata\\local\\programs\\python\\python312\\lib\\site-packages (from openai==1.44.1->-r tequirements.txt (line 7)) (0.7.1)\n",
      "Requirement already satisfied: sniffio in c:\\users\\ezean\\appdata\\local\\programs\\python\\python312\\lib\\site-packages (from openai==1.44.1->-r tequirements.txt (line 7)) (1.3.1)\n",
      "Requirement already satisfied: tqdm>4 in c:\\users\\ezean\\appdata\\local\\programs\\python\\python312\\lib\\site-packages (from openai==1.44.1->-r tequirements.txt (line 7)) (4.67.0)\n",
      "Requirement already satisfied: aiohappyeyeballs>=2.3.0 in c:\\users\\ezean\\appdata\\local\\programs\\python\\python312\\lib\\site-packages (from aiohttp<4.0.0,>=3.8.3->langchain==0.2.16->-r tequirements.txt (line 1)) (2.4.3)\n",
      "Requirement already satisfied: aiosignal>=1.1.2 in c:\\users\\ezean\\appdata\\local\\programs\\python\\python312\\lib\\site-packages (from aiohttp<4.0.0,>=3.8.3->langchain==0.2.16->-r tequirements.txt (line 1)) (1.3.1)\n",
      "Requirement already satisfied: attrs>=17.3.0 in c:\\users\\ezean\\appdata\\local\\programs\\python\\python312\\lib\\site-packages (from aiohttp<4.0.0,>=3.8.3->langchain==0.2.16->-r tequirements.txt (line 1)) (24.2.0)\n",
      "Requirement already satisfied: frozenlist>=1.1.1 in c:\\users\\ezean\\appdata\\local\\programs\\python\\python312\\lib\\site-packages (from aiohttp<4.0.0,>=3.8.3->langchain==0.2.16->-r tequirements.txt (line 1)) (1.4.1)\n",
      "Requirement already satisfied: multidict<7.0,>=4.5 in c:\\users\\ezean\\appdata\\local\\programs\\python\\python312\\lib\\site-packages (from aiohttp<4.0.0,>=3.8.3->langchain==0.2.16->-r tequirements.txt (line 1)) (6.1.0)\n",
      "Requirement already satisfied: yarl<2.0,>=1.12.0 in c:\\users\\ezean\\appdata\\local\\programs\\python\\python312\\lib\\site-packages (from aiohttp<4.0.0,>=3.8.3->langchain==0.2.16->-r tequirements.txt (line 1)) (1.13.1)\n",
      "Requirement already satisfied: idna>=2.8 in c:\\users\\ezean\\appdata\\local\\programs\\python\\python312\\lib\\site-packages (from anyio<5,>=3.5.0->openai==1.44.1->-r tequirements.txt (line 7)) (3.7)\n",
      "Requirement already satisfied: marshmallow<4.0.0,>=3.18.0 in c:\\users\\ezean\\appdata\\local\\programs\\python\\python312\\lib\\site-packages (from dataclasses-json<0.7,>=0.5.7->langchain-community==0.2.3->-r tequirements.txt (line 2)) (3.23.1)\n",
      "Requirement already satisfied: typing-inspect<1,>=0.4.0 in c:\\users\\ezean\\appdata\\local\\programs\\python\\python312\\lib\\site-packages (from dataclasses-json<0.7,>=0.5.7->langchain-community==0.2.3->-r tequirements.txt (line 2)) (0.9.0)\n",
      "Requirement already satisfied: certifi in c:\\users\\ezean\\appdata\\local\\programs\\python\\python312\\lib\\site-packages (from httpx<1,>=0.23.0->openai==1.44.1->-r tequirements.txt (line 7)) (2024.7.4)\n",
      "Requirement already satisfied: httpcore==1.* in c:\\users\\ezean\\appdata\\local\\programs\\python\\python312\\lib\\site-packages (from httpx<1,>=0.23.0->openai==1.44.1->-r tequirements.txt (line 7)) (1.0.6)\n",
      "Requirement already satisfied: h11<0.15,>=0.13 in c:\\users\\ezean\\appdata\\local\\programs\\python\\python312\\lib\\site-packages (from httpcore==1.*->httpx<1,>=0.23.0->openai==1.44.1->-r tequirements.txt (line 7)) (0.14.0)\n",
      "Requirement already satisfied: jsonpointer>=1.9 in c:\\users\\ezean\\appdata\\local\\programs\\python\\python312\\lib\\site-packages (from jsonpatch<2.0,>=1.33->langchain-core==0.2.39->-r tequirements.txt (line 3)) (3.0.0)\n",
      "Requirement already satisfied: orjson<4.0.0,>=3.9.14 in c:\\users\\ezean\\appdata\\local\\programs\\python\\python312\\lib\\site-packages (from langsmith<0.2.0,>=0.1.17->langchain==0.2.16->-r tequirements.txt (line 1)) (3.10.7)\n",
      "Requirement already satisfied: requests-toolbelt<2.0.0,>=1.0.0 in c:\\users\\ezean\\appdata\\local\\programs\\python\\python312\\lib\\site-packages (from langsmith<0.2.0,>=0.1.17->langchain==0.2.16->-r tequirements.txt (line 1)) (1.0.0)\n",
      "Requirement already satisfied: urllib3>=1.26.5 in c:\\users\\ezean\\appdata\\local\\programs\\python\\python312\\lib\\site-packages (from pinecone-client<4.0.0,>=3.2.2->langchain-pinecone==0.1.1->-r tequirements.txt (line 5)) (2.2.2)\n",
      "Requirement already satisfied: annotated-types>=0.6.0 in c:\\users\\ezean\\appdata\\local\\programs\\python\\python312\\lib\\site-packages (from pydantic<3,>=1->langchain==0.2.16->-r tequirements.txt (line 1)) (0.7.0)\n",
      "Requirement already satisfied: pydantic-core==2.23.4 in c:\\users\\ezean\\appdata\\local\\programs\\python\\python312\\lib\\site-packages (from pydantic<3,>=1->langchain==0.2.16->-r tequirements.txt (line 1)) (2.23.4)\n",
      "Requirement already satisfied: charset-normalizer<4,>=2 in c:\\users\\ezean\\appdata\\local\\programs\\python\\python312\\lib\\site-packages (from requests<3,>=2->langchain==0.2.16->-r tequirements.txt (line 1)) (3.3.2)\n",
      "Requirement already satisfied: greenlet!=0.4.17 in c:\\users\\ezean\\appdata\\local\\programs\\python\\python312\\lib\\site-packages (from SQLAlchemy<3,>=1.4->langchain==0.2.16->-r tequirements.txt (line 1)) (3.1.1)\n",
      "Requirement already satisfied: regex>=2022.1.18 in c:\\users\\ezean\\appdata\\local\\programs\\python\\python312\\lib\\site-packages (from tiktoken<1,>=0.7->langchain-openai==0.1.23->-r tequirements.txt (line 4)) (2024.11.6)\n",
      "Requirement already satisfied: colorama in c:\\users\\ezean\\appdata\\roaming\\python\\python312\\site-packages (from tqdm>4->openai==1.44.1->-r tequirements.txt (line 7)) (0.4.6)\n",
      "Requirement already satisfied: mypy-extensions>=0.3.0 in c:\\users\\ezean\\appdata\\local\\programs\\python\\python312\\lib\\site-packages (from typing-inspect<1,>=0.4.0->dataclasses-json<0.7,>=0.5.7->langchain-community==0.2.3->-r tequirements.txt (line 2)) (1.0.0)\n",
      "Using cached langchain-0.2.16-py3-none-any.whl (1.0 MB)\n",
      "Using cached langchain_community-0.2.3-py3-none-any.whl (2.2 MB)\n",
      "Using cached langchain_core-0.2.39-py3-none-any.whl (396 kB)\n",
      "Using cached langchain_openai-0.1.23-py3-none-any.whl (51 kB)\n",
      "Using cached langchain_pinecone-0.1.1-py3-none-any.whl (8.4 kB)\n",
      "Using cached langchain_text_splitters-0.2.0-py3-none-any.whl (23 kB)\n",
      "Using cached openai-1.44.1-py3-none-any.whl (373 kB)\n",
      "Using cached pinecone_client-3.2.2-py3-none-any.whl (215 kB)\n",
      "Installing collected packages: pinecone-client, openai, langchain-core, langchain-text-splitters, langchain-pinecone, langchain-openai, langchain, langchain-community\n",
      "  Attempting uninstall: openai\n",
      "    Found existing installation: openai 0.28.0\n",
      "    Uninstalling openai-0.28.0:\n",
      "      Successfully uninstalled openai-0.28.0\n",
      "  Attempting uninstall: langchain-core\n",
      "    Found existing installation: langchain-core 0.3.22\n",
      "    Uninstalling langchain-core-0.3.22:\n",
      "      Successfully uninstalled langchain-core-0.3.22\n",
      "  Attempting uninstall: langchain-text-splitters\n",
      "    Found existing installation: langchain-text-splitters 0.3.0\n",
      "    Uninstalling langchain-text-splitters-0.3.0:\n",
      "      Successfully uninstalled langchain-text-splitters-0.3.0\n",
      "  Attempting uninstall: langchain-openai\n",
      "    Found existing installation: langchain-openai 0.2.8\n",
      "    Uninstalling langchain-openai-0.2.8:\n",
      "      Successfully uninstalled langchain-openai-0.2.8\n",
      "  Attempting uninstall: langchain\n",
      "    Found existing installation: langchain 0.3.10\n",
      "    Uninstalling langchain-0.3.10:\n",
      "      Successfully uninstalled langchain-0.3.10\n",
      "  Attempting uninstall: langchain-community\n",
      "    Found existing installation: langchain-community 0.3.10\n",
      "    Uninstalling langchain-community-0.3.10:\n",
      "      Successfully uninstalled langchain-community-0.3.10\n",
      "Successfully installed langchain-0.2.16 langchain-community-0.2.3 langchain-core-0.2.39 langchain-openai-0.1.23 langchain-pinecone-0.1.1 langchain-text-splitters-0.2.0 openai-1.44.1 pinecone-client-3.2.2\n"
     ]
    },
    {
     "name": "stderr",
     "output_type": "stream",
     "text": [
      "\n",
      "[notice] A new release of pip is available: 24.0 -> 25.0.1\n",
      "[notice] To update, run: python.exe -m pip install --upgrade pip\n"
     ]
    }
   ],
   "source": [
    "!pip install -r tequirements.txt"
   ]
  }
 ],
 "metadata": {
  "kernelspec": {
   "display_name": "Python 3",
   "language": "python",
   "name": "python3"
  },
  "language_info": {
   "codemirror_mode": {
    "name": "ipython",
    "version": 3
   },
   "file_extension": ".py",
   "mimetype": "text/x-python",
   "name": "python",
   "nbconvert_exporter": "python",
   "pygments_lexer": "ipython3",
   "version": "3.12.3"
  }
 },
 "nbformat": 4,
 "nbformat_minor": 2
}
